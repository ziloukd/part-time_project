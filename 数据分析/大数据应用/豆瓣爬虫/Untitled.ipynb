{
 "cells": [
  {
   "cell_type": "code",
   "execution_count": 11,
   "metadata": {},
   "outputs": [
    {
     "name": "stdout",
     "output_type": "stream",
     "text": [
      "{'电影': '隐秘的角落', '用户名': '徐若风', '电影评分': '推荐', '评论时间': '2020-06-19 22:13:55', '评论': '<div class=\"introduction\"><p>本文首发于公众号：陀螺电影。文中内容涉及部分剧透。文章主要内容包括：原著《坏小孩》在剧中被删改的情节、《隐秘的角落》的过审难点及其策略、《隐秘的角落》结局理解、“恶童”故事的社会意义。</p></div><p>六月以来，悬疑犯罪剧集迎来了井喷。爱奇艺的“迷雾剧场”在推出《十日游戏》后，第二弹就是此前倍受期待的<span style=\"font-weight: bold;\">《隐秘的角落》</span>，改编自紫金陈的小说<span style=\"font-weight: bold;\">《坏小孩》。</span></p><p>上线第二天，<span style=\"font-weight: bold;\">豆瓣分数飙升到9.2</span>，今年国产剧集的最高分。上线第三天，<span style=\"font-weight: bold;\">全集放出</span>。秦昊、张颂文、王景春和3位小演员的演技被大家频繁提起。摄制上各方面的硬配、软配又都能让人联想到几年前“紫金陈IP”的上一部<span style=\"font-weight: bold;\">《无证之罪》</span>的水准。</p><div class=\"image-container image-float-center\"><div class=\"image-wrapper\"><img src=\"https://img3.doubanio.com/view/thing_review/l/public/4725873.jpg\" width=\"1920\"/></div></div><p><span style=\"font-weight: bold;\">当年《无证之罪》开辟了网剧的短剧模式，</span>宣告了网剧也能拥有极高的制作水准和深厚的探讨面向，是一部拥有行业里程碑意义的作品。但在那之后冒出的绝大多数悬疑网剧，都离《无证之罪》有着不小的距离。</p><p>现下的这部《隐秘的角落》，算得上第二个《无证之罪》，甚至有超越之处。</p><p>看完全剧，分集评分大致如下：</p><p><span style=\"font-weight: bold;\">前六集8 8 8 8 7 9</span></p><p><span style=\"font-weight: bold;\">后六集7 7 7 7 6 6</span></p><div class=\"image-container image-float-center image-badge-gif\"><div class=\"image-wrapper\"><img data-original-url=\"https://img1.doubanio.com/view/thing_review/raw/public/4725807.jpg\" data-render-type=\"gif\" src=\"https://img1.doubanio.com/view/thing_review/l/public/4725807.jpg\" width=\"362\"/></div></div><p>剧集的开篇就是一场血案。秦昊饰演的数学老师张东升，借机假意带岳父母旅游，在山顶突然将两人推下山崖摔死。</p><p>张东升在家中是个没有地位的上门女婿，与妻子感情破裂，一旦离婚，几乎是净身出户。常年受损的自尊所埋下的怨气和对妻子家财产的觊觎，令他设计了这场“完美犯罪”。</p><p>但与此同时，这一幕被三个孩子无意中摄像，双方随即开启了博弈。两具尸体只不过是开启这个暑假的钥匙，两个家庭随后被连环命案席卷。</p><div class=\"image-container image-float-center image-badge-gif\"><div class=\"image-wrapper\"><img data-original-url=\"https://img3.doubanio.com/view/thing_review/raw/public/4725802.jpg\" data-render-type=\"gif\" src=\"https://img3.doubanio.com/view/thing_review/l/public/4725802.jpg\" width=\"320\"/></div></div><p>自此，剧集和原著逐渐走向了岔路口。</p><p>实际上，最初看到《坏小孩》要改编成剧集的消息，我是不敢置信的，因为<span style=\"font-weight: bold;\">《坏小孩》这本书几乎是踩着审查的红线走。它也得亏是出版得比较早（2014年），放这两年的话很可能无法面世。</span></p><div class=\"image-container image-float-center\"><div class=\"image-wrapper\"><img src=\"https://img3.doubanio.com/view/thing_review/l/public/4725810.jpg\" width=\"556\"/></div><div class=\"image-caption-wrapper\"><div class=\"image-caption\">▲ 原著《坏小孩》</div></div></div><p>如何形容这本书呢？撇开文笔的孱弱、细节上的些许毛糙等显而易见的缺点不谈，它首先是一本<span style=\"font-weight: bold;\">结构上令人心惊的作品。</span></p><p>与绝大多数的推理小说写法所迥异的是，紫金陈把每起命案的凶手、动机、手法这些环节都直白地摆在我们面前，间或带有说明性的心理描写，<span style=\"font-weight: bold;\">几乎没有任何隐瞒。</span>他只隐瞒了一个人物在中后段的心事，就让整个故事在最终突然迎来了巨大的逆转。</p><p>而更加惊世骇俗的，则是书的内在精神。其所呈现的社会关系与家庭关系，都<span style=\"font-weight: bold;\">浸透了一步步走向极端的恶。</span>无论是大人还是孩子，在一连串案件里都呈现出了各自不同属性的恶，简单亦或复杂，灵机一动亦或老谋深算。</p><div class=\"image-container image-float-center\"><div class=\"image-wrapper\"><img src=\"https://img3.doubanio.com/view/thing_review/l/public/4725811.jpg\" width=\"713\"/></div><div class=\"image-caption-wrapper\"><div class=\"image-caption\">▲ 剧中的重要角色：三个孩子</div></div></div><p>两位主人公朱朝阳与张东升<span style=\"font-weight: bold;\">互为镜像人物</span>，后者所实施的谋杀手段，前者马上就能模仿借鉴，并且还能通过后者的手让自己变得干干净净。</p><p>某种意义上，张东升就是朱朝阳内心里的<span style=\"font-weight: bold;\">“隐秘的角落”</span>，其他配角则是起着各自推波助澜的作用。</p><div class=\"image-container image-float-center image-badge-gif\"><div class=\"image-wrapper\"><img data-original-url=\"https://img9.doubanio.com/view/thing_review/raw/public/4725815.jpg\" data-render-type=\"gif\" src=\"https://img9.doubanio.com/view/thing_review/l/public/4725815.jpg\" width=\"400\"/></div><div class=\"image-caption-wrapper\"><div class=\"image-caption\">▲ 心思缜密的主角，14岁的朱朝阳</div></div></div><p>成人世界充满了算计与冷漠，进一步地逼迫着谋杀的筹谋。千奇百态的恶在经过排列组合后碰撞在一起，才引发出了每个环节的巧合。九具尸体如多米诺骨牌般排列，一块接着一块地被残忍推倒。</p><p>也正是通过对这些恶的刻画，我们得以反思成人乃至整个社会带给孩子们的巨大伤害与坏影响——<span style=\"font-weight: bold;\">孩子们犯下了谋杀的罪责，但他们手里的刀是大人递过去的，并“以身作则”地让他们狠狠攥紧。</span></p><div class=\"image-container image-float-center\"><div class=\"image-wrapper\"><img src=\"https://img3.doubanio.com/view/thing_review/l/public/4725920.jpg\" width=\"2000\"/></div><div class=\"image-caption-wrapper\"><div class=\"image-caption\">▲ 剧中这一幕是朱朝阳心理变化的转折点</div></div></div><p>书中一个令人心痛的细节是，孩子的这方阵营每次在策划谋杀的时候，都会下意识地想到初中《社会政治》课本里的一句话：<span style=\"font-weight: bold;\">未满十四周岁者无刑事能力。</span></p><div class=\"image-container image-float-center\"><div class=\"image-wrapper\"><img src=\"https://img1.doubanio.com/view/thing_review/l/public/4725819.jpg\" width=\"1079\"/></div><div class=\"image-caption-wrapper\"><div class=\"image-caption\">▲ 原著《坏小孩》节选</div></div></div><p>当看到成人世界里的围捕厮杀、残酷狠烈后，他们不仅能模仿得像模像样，更能利用成人的势力为己所用。他们的底气就是，<span style=\"font-weight: bold;\">哪怕最后被发现，也不怕警察、不会入狱，</span>何况最终的布局者朱朝阳拥有着极高的智力水平。</p><p>这种人物形象的前后重大转变，以及对社会规则的内在破坏与利用，<span style=\"font-weight: bold;\">让人一回想就不禁毛骨悚然，却又能对他们的行为产生进一步的理解</span>。</p><div class=\"image-container image-float-center\"><div class=\"image-wrapper\"><img src=\"https://img1.doubanio.com/view/thing_review/l/public/4725938.jpg\" width=\"2000\"/></div></div><p><span style=\"font-weight: bold;\">由于上述原因，《隐秘的角落》这部剧在改编上的最大难度，其实就在于将原著捋顺情节、删除并增添新的细节来制成“洁本”，从而直面审查。</span></p><p>（<span style=\"font-weight: bold;\">⚠️</span>以下部分内容涉及剧透）</p><p>审查来自于两个层面。</p><p><span style=\"font-weight: bold;\">首先，</span>审查机构对影视剧的审查比小说无疑要严格数倍，<span style=\"font-weight: bold;\">如果不做大规模的删改，根本没有拍摄的可能。</span></p><p><span style=\"font-weight: bold;\">其次，</span>网剧与小说两者的媒介属性不同，通过书页想象与直接观看一个小男孩接二连三地“弑亲”乃至最后心思缜密地害死朋友，所引起的<span style=\"font-weight: bold;\">观者的心理接受度，包括后续的社会影响与舆论发酵，都是截然不同的。</span></p><div class=\"image-container image-float-center\"><div class=\"image-wrapper\"><img src=\"https://img3.doubanio.com/view/thing_review/l/public/4725822.jpg\" width=\"1080\"/></div></div><p>这两个层面的原因，直接决定了剧集的改编逻辑。诸如：</p><p>改变了三个孩子全程的行为动机（30万治病钱、朱朝阳并没有策划杀害父亲与王瑶），增加了富有人情味的干警陈冠声、凶蛮的混混王立、不负责任的周春红的情人、患有精神疾病的严良父亲这几个角色，并把原著中的严良一角删除（在剧中置换了丁浩）。</p><p>随之而来的，就是支线剧情几乎“重写式”的增添。由于原先主线（朱朝阳的三次杀人）的巨大改动，导致其后半程已经无法带领剧情的发展，只能依靠支线的衍生。</p><div class=\"image-container image-float-center\"><div class=\"image-wrapper\"><img src=\"https://img9.doubanio.com/view/thing_review/l/public/4725825.jpg\" width=\"1080\"/></div></div><p><span style=\"font-weight: bold;\">不少衍生做得还是挺精彩的。</span></p><p>第五集《妈妈》中，将王瑶作为母亲的肆意报复与周春红作为母亲的保卫守护，做成了更为完整的对照组。</p><div class=\"image-container image-float-center\"><div class=\"image-wrapper\"><img src=\"https://img9.doubanio.com/view/thing_review/l/public/4725824.jpg\" width=\"1080\"/></div></div><p>第六集《苍蝇》里——</p><p>周春红给朱朝阳擦嘴时的冲突、张东升在给了三万块后的反将一军、朱永平独自一人吃掉多出的一份晚饭、陈冠声诱骗严良的“电话诈骗”以及朱朝阳在发现父亲录音笔后心机暗涌的表演。</p><div class=\"image-container image-float-center\"><div class=\"image-wrapper\"><img src=\"https://img1.doubanio.com/view/thing_review/l/public/4725828.jpg\" width=\"890\"/></div><div class=\"image-caption-wrapper\"><div class=\"image-caption\">▲ 第六集《苍蝇》，父爱就是甜品上的苍蝇</div></div></div><p>这些段落都很好地体现了人物鲜活的多面性，相较之下，<span style=\"font-weight: bold;\">原著里反而显得比较“纸片人”。</span></p><div class=\"image-container image-float-center\"><div class=\"image-wrapper\"><img src=\"https://img1.doubanio.com/view/thing_review/l/public/4725827.jpg\" width=\"1080\"/></div><div class=\"image-caption-wrapper\"><div class=\"image-caption\">▲ 令人窒息的母子关系</div></div></div><p>另一个重大的改编设计，<span style=\"font-weight: bold;\">则是最后两集的叙诡。</span></p><p>在原著中，日记本作为朱朝阳最后时刻的秘密武器，为读者揭露的是他自中段起就开始暗自筹谋间接害死朋友的心路历程。但这个手法由于剧集中主线前提的变更而无法再次使用，于是编剧在最后两集采用了双重性设计，类似于《少年派的奇幻漂流》里的“故事新说”。</p><p>真假记忆卡、水产仓库血拼以及最终的船上决斗等情节，里面的众多细节，尤其是张东升的行为逻辑，<span style=\"font-weight: bold;\">乍一看都设计得非常粗糙，不够绵密精细，经不起细推。</span></p><p>但我们也可以理解为，这是朱朝阳选择相信“童话”的一种表现手法。此前不断在铺垫的笛卡尔与公主“爱与背叛”的“现实或童话”双重性，此时派上了用场。</p><div class=\"image-container image-float-center\"><div class=\"image-wrapper\"><img src=\"https://img3.doubanio.com/view/thing_review/l/public/4725831.jpg\" width=\"1080\"/></div><div class=\"image-caption-wrapper\"><div class=\"image-caption\">▲ 张老师在课上讲笛卡尔的故事</div></div></div><p>在这种解读下，朱朝阳引发空白内存卡的事件，就是为了挑起严良与张东升的矛盾，借张东升之手杀掉严良。朱晶晶在结局里可以确定是因为朱朝阳的不救而致死。现实里的普普与严良也许已经死了，后者甚至有可能就是被他推下船的。</p><p>朱朝阳用<span style=\"font-weight: bold;\">童话式的谎言</span>告诉警察虚假的“事实”，实现自我的完全“脱罪”。<span style=\"font-weight: bold;\">他为了保护自己生活的前路，而选择牺牲“所有别人”。</span>剧集最终为我们展现的，就是他内心世界的外化，而非真实的现实场面。</p><div class=\"image-container image-float-center\"><div class=\"image-wrapper\"><img src=\"https://img9.doubanio.com/view/thing_review/l/public/4725834.jpg\" width=\"1000\"/></div><div class=\"image-caption-wrapper\"><div class=\"image-caption\">▲普普隐藏的少年宫事件真正的秘密</div></div></div><p>可以想见，鉴于“许多本来要死的角色（严良、普普）不能摆在明面上死”，涉及到的情节也<span style=\"font-weight: bold;\">只能以暗示的方式进行模糊处理</span>。</p><p>对小孩角色们普遍的“脱罪”化处理，也让它成为了一部<span style=\"font-weight: bold;\">温情与残酷并存的作品</span>，而非一条路走到黑。</p><p>但即便如此解读，最终的剧情安排仍旧存在着不小的问题。</p><div class=\"image-container image-float-center\"><div class=\"image-wrapper\"><img src=\"https://img9.doubanio.com/view/thing_review/l/public/4725835.jpg\" width=\"1080\"/></div><div class=\"image-caption-wrapper\"><div class=\"image-caption\">▲这一幕明示了严良的“幻影”</div></div></div><p>一方面，朱朝阳与普普、严良两个伙伴的关系在剧集中有着浓厚的情感铺陈，他们之间的秘密也没有大到互相针对的地步。此刻朱朝阳的黑化，尤其是记忆卡事件这种堪称“玩火”的处理，反而变得不太合理。</p><p>另一方面，最后两集几个主要人物的死亡并没有传递出足够的信息量。比如朱永平和王瑶的死法，几乎是一种“任务式下线”。相比之前浓墨重彩、极其精致的人物细节塑造，这种收场则显得有些应付。这个方面其实与审查无关，就是一种<span style=\"font-weight: bold;\">稍显陈旧的创作套路。</span></p><div class=\"image-container image-float-center\"><div class=\"image-wrapper\"><img src=\"https://img1.doubanio.com/view/thing_review/l/public/4726029.jpg\" width=\"1920\"/></div></div><p>纵观全剧，《隐秘的角落》做得很好的一点是每集的表达都有各异之处，<span style=\"font-weight: bold;\">时长的不同完全依照剧情来结构，从而保证单集主题的完整性以及每集主题之间的递进性。</span></p><p>我们可以发现，绝大多数被修改后的情节，虽然的确抽空了大部分原著的内核，让整体的表达不再那么尖锐、生猛，<span style=\"font-weight: bold;\">但它仍旧能反映出相似的社会问题。</span></p><div class=\"image-container image-float-center\"><div class=\"image-wrapper\"><img src=\"https://img1.doubanio.com/view/thing_review/l/public/4726038.jpg\" width=\"1920\"/></div></div><p>为什么我给第六集《苍蝇》最高分？就是因为这集让所有人物都形成环环相扣关系的同时，将原著的内核以一种柔软但准确的方式“曲向呈现”——<span style=\"font-weight: bold;\">孩童不可避免地遭遇到成人世界法则的侵害，继而产生了又一套法则来趋利避害。</span></p><p>此处的伏笔也在第11集末尾的拉链声音里引爆。朱永平其实知道朱朝阳是在表演，但他当时听完后却选择删除录音、甩自己巴掌。这份“罪与爱”矛盾并存的父子情感，就如《阳光普照》《父子》中所描绘的一样，纠缠着彼此伤害。</p><p>情节上的柔化，并不妨碍剧集揭示出了这份矛盾背后的复杂性。</p><div class=\"image-container image-float-center\"><div class=\"image-wrapper\"><img src=\"https://img1.doubanio.com/view/thing_review/l/public/4725838.jpg\" width=\"1080\"/></div></div><p>《隐秘的角落》的改编，<span style=\"font-weight: bold;\">是一种所谓“戴着镣铐跳舞”吗？</span>是，也不是。</p><p><span style=\"font-weight: bold;\">说“是”，</span>是因为这个老套的形容，已经成为了我们的共识。审查已经成为中国时下创作环境里通行的门槛，并且每年都在紧缩。在这种形势下，创作团队已经在能力范围内做到了优秀，遗憾可能是难免的。</p><p>审查的红线明晃晃地摆在那，距离我们很近。在这片大地上，你无法寄希望于在影视里看到孩子们能具有真正意义上的“恶童”形象。他们不再天真无邪，就已经是无比艰难的一步了。</p><div class=\"image-container image-float-center\"><div class=\"image-wrapper\"><img src=\"https://img3.doubanio.com/view/thing_review/l/public/4726051.jpg\" width=\"1920\"/></div></div><p><span style=\"font-weight: bold;\">说“不是”，</span>是因为编剧在改编的过程中，找到了“镣铐”里的很多突破口，设法突破性地发挥出了不少比原著更精彩的段落。</p><p>前10集对人物逻辑的梳理、人性深处的挖掘都很出色。摄制上对湛江小城地域性市井气息的捕捉，一众演员具有丰富表演质感的表现力，让大多数表达显得真实且贴切。这些与原著相比堪称是“花开两朵，各表一枝”，<span style=\"font-weight: bold;\">表达出了另一种方向上的社会现实意义，映射着不同层面人心善恶的阴影面积。</span></p><div class=\"image-container image-float-center\"><div class=\"image-wrapper\"><img src=\"https://img3.doubanio.com/view/thing_review/l/public/4725843.jpg\" width=\"1000\"/></div></div><p>而最终结局朱朝阳明确的“脱罪”，虽然不同于原著的开放性结局，亦达成了一套有力的反讽。</p><p>正如同海报上所言，<span style=\"font-weight: bold;\">“小孩是最能守住秘密的人。”</span>朱朝阳此时守住了自己的秘密，<span style=\"font-weight: bold;\">代价却是再也无法挽回的麻木不仁。</span></p><p>曾经，“秘密”是意外，“最能”是因为天真的坚持，“守住”则来自于外界的逼迫。他们守住秘密，不过是对成人世界的失望。而在后两者轰然倒塌，不再天真，也没有逼迫之后，“秘密”就能迎着光存在了。<span style=\"font-weight: bold;\">但此时的光，却要比任何时候都更冷。</span></p><p>这点光隐约地提示着每一个观众：<span style=\"font-weight: bold;\">我们与恶的距离很近。</span>恶存在于孤独的、隐秘的角落，受着来自周边世界的挤压与伤害，逐渐成长。正视恶的源头，是减少恶的第一步。</p><p></p>', '有用数': '\\n                                461\\n                        ', '无用数': '\\n                                11\\n                        ', '回应数': '38回应'}\n"
     ]
    }
   ],
   "source": [
    "import requests\n",
    "import json\n",
    "from lxml import etree\n",
    "\n",
    "\n",
    "headers = {\n",
    "    'User-Agent': \"Mozilla/5.0 (Windows NT 10.0; Win64; x64) AppleWebKit/537.36 (KHTML, like Gecko) Chrome/83.0.4103.106 Safari/537.36\"\n",
    "}\n",
    "\n",
    "# 获取网页源代码\n",
    "def get_html(url):\n",
    "    '''\n",
    "    url=\"https://movie.douban.com/review/best/?start=0\"'''\n",
    "    response = requests.get(url,headers=headers)\n",
    "    response.encoding = 'utf-8'\n",
    "    if response.status_code == 200:\n",
    "        return response.text\n",
    "    \n",
    "# 解析网页    \n",
    "def parse_html(html):\n",
    "    tree = etree.HTML(html)\n",
    "    div_list = tree.xpath('//div[contains(@data-cid, \"126\")]')\n",
    "    \n",
    "    comment_info = {}\n",
    "    \n",
    "    for div in div_list:\n",
    "        movie = div.xpath('.//img/@title')[0]  # 评论的电影名\n",
    "        username = div.xpath('.//a[contains(@class, \"name\")]/text()')[0]  # 用户名\n",
    "        evaluation = div.xpath('.//span/@title')[0]  # 电影评价\n",
    "        report_time = div.xpath('.//span[2]/text()')[0]  # 发表时间\n",
    "        comment_id = div.xpath('./@data-cid')[0]  # 评论id\n",
    "        # 获取完整的评论内容\n",
    "        url_ = 'https://movie.douban.com/j/review/%s/full' % comment_id\n",
    "        html = get_html(url_)\n",
    "        for p in ('<p>', '<\\/p>'):\n",
    "            body = json.loads(html)['html'].replace(p, '')\n",
    "        r_useful_count = div.xpath('.//span[contains(@id, \"r-useful_count\")]/text()')[0].strip() # 有用数\n",
    "        r_useless_count = div.xpath('.//span[contains(@id, \"r-useless_count\")]/text()')[0].strip()  # 无用数\n",
    "        reply_count = div.xpath('.//a[contains(@class, \"reply\")]/text()')[0].strip()  # 回应数\n",
    "        \n",
    "        # 构造存储数据结构\n",
    "        comment_info = {\n",
    "            '电影':movie,\n",
    "            '用户名':username,\n",
    "            '电影评分':evaluation,\n",
    "            '评论时间':report_time,\n",
    "            '评论':body,\n",
    "            '有用数':r_useful_count,\n",
    "            '无用数':r_useless_count,\n",
    "            '回应数':reply_count\n",
    "        }\n",
    "        \n",
    "        return comment_info\n",
    "\n",
    "html = get_html('https://movie.douban.com/review/best/?start=0')\n",
    "print(parse_html(html))"
   ]
  },
  {
   "cell_type": "code",
   "execution_count": 5,
   "metadata": {},
   "outputs": [
    {
     "name": "stdout",
     "output_type": "stream",
     "text": [
      "12da\n"
     ]
    },
    {
     "ename": "TypeError",
     "evalue": "replace() argument 1 must be str, not list",
     "output_type": "error",
     "traceback": [
      "\u001b[1;31m---------------------------------------------------------------------------\u001b[0m",
      "\u001b[1;31mTypeError\u001b[0m                                 Traceback (most recent call last)",
      "\u001b[1;32m<ipython-input-5-1b5c8eb17597>\u001b[0m in \u001b[0;36m<module>\u001b[1;34m\u001b[0m\n\u001b[0;32m      1\u001b[0m \u001b[0mprint\u001b[0m\u001b[1;33m(\u001b[0m\u001b[1;34m'12da'\u001b[0m\u001b[1;33m)\u001b[0m\u001b[1;33m\u001b[0m\u001b[1;33m\u001b[0m\u001b[0m\n\u001b[1;32m----> 2\u001b[1;33m \u001b[0mprint\u001b[0m\u001b[1;33m(\u001b[0m\u001b[1;34m'12da'\u001b[0m\u001b[1;33m.\u001b[0m\u001b[0mreplace\u001b[0m\u001b[1;33m(\u001b[0m\u001b[1;33m[\u001b[0m\u001b[1;34m'da'\u001b[0m\u001b[1;33m,\u001b[0m\u001b[1;34m'2'\u001b[0m\u001b[1;33m]\u001b[0m\u001b[1;33m,\u001b[0m\u001b[1;34m''\u001b[0m\u001b[1;33m)\u001b[0m\u001b[1;33m)\u001b[0m\u001b[1;33m\u001b[0m\u001b[1;33m\u001b[0m\u001b[0m\n\u001b[0m",
      "\u001b[1;31mTypeError\u001b[0m: replace() argument 1 must be str, not list"
     ]
    }
   ],
   "source": [
    "print('12da')\n",
    "print('12da'.replace('da',''))"
   ]
  },
  {
   "cell_type": "code",
   "execution_count": null,
   "metadata": {},
   "outputs": [],
   "source": []
  }
 ],
 "metadata": {
  "kernelspec": {
   "display_name": "Python 3",
   "language": "python",
   "name": "python3"
  },
  "language_info": {
   "codemirror_mode": {
    "name": "ipython",
    "version": 3
   },
   "file_extension": ".py",
   "mimetype": "text/x-python",
   "name": "python",
   "nbconvert_exporter": "python",
   "pygments_lexer": "ipython3",
   "version": "3.8.2"
  }
 },
 "nbformat": 4,
 "nbformat_minor": 4
}
